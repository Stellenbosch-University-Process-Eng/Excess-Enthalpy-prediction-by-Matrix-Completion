{
 "cells": [
  {
   "cell_type": "code",
   "execution_count": 1,
   "metadata": {},
   "outputs": [],
   "source": [
    "import sys\n",
    "\n",
    "if sys.platform == 'win32':\n",
    "    path = 'C:/Users/Garren/Documents/Article - Pure PMF/Pure_MC'\n",
    "else:\n",
    "    path = '/home/garren/Documents/Article - Pure PMF/Pure_MC'\n",
    "sys.path.insert(0, path)\n",
    "\n",
    "from Post_procs import Post_process"
   ]
  },
  {
   "cell_type": "code",
   "execution_count": 2,
   "metadata": {},
   "outputs": [],
   "source": [
    "T = '298'\n",
    "c = True\n",
    "z = True\n",
    "t = True\n",
    "post_obj = Post_process(include_clusters=c,\n",
    "                        include_zeros=z,\n",
    "                        refT=t,\n",
    "                        T=T)\n",
    "A = post_obj.get_tensors()\n",
    "post_obj.plot_2D_plots(data_type='Testing', ranks=[9], plot_one=True, A=A)\n",
    "post_obj.plot_2D_plots(data_type='Training', ranks=[9], plot_one=True, A=A)"
   ]
  },
  {
   "cell_type": "code",
   "execution_count": 3,
   "metadata": {},
   "outputs": [],
   "source": [
    "T = 'all'\n",
    "c = True\n",
    "z = True\n",
    "t = True\n",
    "post_obj = Post_process(include_clusters=c,\n",
    "                        include_zeros=z,\n",
    "                        refT=t,\n",
    "                        T=T)\n",
    "A = post_obj.get_tensors()\n",
    "post_obj.plot_2D_plots(data_type='Testing', ranks=[9], plot_one=True, A=A)\n",
    "post_obj.plot_2D_plots(data_type='Training', ranks=[9], plot_one=True, A=A)"
   ]
  }
 ],
 "metadata": {
  "kernelspec": {
   "display_name": "cmdstan_conda_forge",
   "language": "python",
   "name": "python3"
  },
  "language_info": {
   "codemirror_mode": {
    "name": "ipython",
    "version": 3
   },
   "file_extension": ".py",
   "mimetype": "text/x-python",
   "name": "python",
   "nbconvert_exporter": "python",
   "pygments_lexer": "ipython3",
   "version": "3.12.2"
  }
 },
 "nbformat": 4,
 "nbformat_minor": 2
}
