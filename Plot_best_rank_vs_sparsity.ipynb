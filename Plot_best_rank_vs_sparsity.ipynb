{
 "cells": [
  {
   "cell_type": "code",
   "execution_count": 1,
   "metadata": {},
   "outputs": [],
   "source": [
    "import sys\n",
    "\n",
    "if sys.platform == 'win32':\n",
    "    path = 'C:/Users/Garren/Documents/Article - Pure PMF/Pure_MC'\n",
    "else:\n",
    "    path = '/home/garren/Documents/Article - Pure PMF/Pure_MC'\n",
    "sys.path.insert(0, path)\n",
    "\n",
    "from Post_procs import Post_process"
   ]
  },
  {
   "cell_type": "code",
   "execution_count": null,
   "metadata": {},
   "outputs": [],
   "source": [
    "for T in ['298', 'all']:\n",
    "    for c in [True, False]:\n",
    "        for z in [True, False]:\n",
    "            if T == '298':\n",
    "                post_obj = Post_process(include_clusters=c,\n",
    "                                        include_zeros=z,\n",
    "                                        refT=False,\n",
    "                                        T=T)\n",
    "                A = post_obj.get_tensors()\n",
    "                post_obj.plot_best_rank_vs_sparsity(data_type='Testing', A=A)\n",
    "                post_obj.plot_best_rank_vs_sparsity(data_type='Training', A=A)\n",
    "            else:\n",
    "                for t in [True, False]:\n",
    "                    post_obj = Post_process(include_clusters=c,\n",
    "                                            include_zeros=z,\n",
    "                                            refT=t,\n",
    "                                            T=T)\n",
    "                    A = post_obj.get_tensors()\n",
    "                    post_obj.plot_best_rank_vs_sparsity(data_type='Testing', A=A)\n",
    "                    post_obj.plot_best_rank_vs_sparsity(data_type='Training', A=A)"
   ]
  },
  {
   "cell_type": "code",
   "execution_count": null,
   "metadata": {},
   "outputs": [],
   "source": []
  }
 ],
 "metadata": {
  "kernelspec": {
   "display_name": "cmdstan_conda_forge",
   "language": "python",
   "name": "python3"
  },
  "language_info": {
   "codemirror_mode": {
    "name": "ipython",
    "version": 3
   },
   "file_extension": ".py",
   "mimetype": "text/x-python",
   "name": "python",
   "nbconvert_exporter": "python",
   "pygments_lexer": "ipython3",
   "version": "3.12.2"
  }
 },
 "nbformat": 4,
 "nbformat_minor": 2
}
